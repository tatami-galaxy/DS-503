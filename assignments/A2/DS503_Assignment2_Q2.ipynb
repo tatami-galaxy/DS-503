{
  "nbformat": 4,
  "nbformat_minor": 0,
  "metadata": {
    "colab": {
      "name": "DS503_Assignment2_Q2.ipynb",
      "provenance": [],
      "collapsed_sections": []
    },
    "kernelspec": {
      "name": "python3",
      "display_name": "Python 3"
    },
    "language_info": {
      "name": "python"
    }
  },
  "cells": [
    {
      "cell_type": "code",
      "metadata": {
        "id": "7HsKI1GqoUcw",
        "colab": {
          "base_uri": "https://localhost:8080/"
        },
        "outputId": "d77365e0-1655-4b65-c5eb-60c018a22823"
      },
      "source": [
        "!pip install -q kaggle\n",
        "!pip install sortedcontainers"
      ],
      "execution_count": null,
      "outputs": [
        {
          "output_type": "stream",
          "name": "stdout",
          "text": [
            "Requirement already satisfied: sortedcontainers in /usr/local/lib/python3.7/dist-packages (2.4.0)\n"
          ]
        }
      ]
    },
    {
      "cell_type": "code",
      "metadata": {
        "id": "iht5pNp34Coz"
      },
      "source": [
        "import pandas as pd\n",
        "import random\n",
        "from random import randrange\n",
        "from matplotlib import pyplot as plt\n",
        "import numpy as np\n",
        "import sys\n",
        "import math\n",
        "from sortedcontainers import SortedList"
      ],
      "execution_count": null,
      "outputs": []
    },
    {
      "cell_type": "markdown",
      "metadata": {
        "id": "cI_JzlsOo85v"
      },
      "source": [
        "Download and unzip Kaggle dataset"
      ]
    },
    {
      "cell_type": "code",
      "metadata": {
        "colab": {
          "resources": {
            "http://localhost:8080/nbextensions/google.colab/files.js": {
              "data": "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",
              "ok": true,
              "headers": [
                [
                  "content-type",
                  "application/javascript"
                ]
              ],
              "status": 200,
              "status_text": "OK"
            }
          },
          "base_uri": "https://localhost:8080/",
          "height": 94
        },
        "id": "CzNor1NQoZd0",
        "outputId": "08e8f368-d820-4fa7-9461-f463fa3d4201"
      },
      "source": [
        " # upload the kaggle.json file provided\n",
        " # if doesn't work for some reason see https://www.kaggle.com/general/74235 to create new api key\n",
        "\n",
        " from google.colab import files \n",
        " files.upload()"
      ],
      "execution_count": null,
      "outputs": [
        {
          "output_type": "display_data",
          "data": {
            "text/html": [
              "\n",
              "     <input type=\"file\" id=\"files-ca7e7df5-fcb8-485c-88be-6c0be916d5a3\" name=\"files[]\" multiple disabled\n",
              "        style=\"border:none\" />\n",
              "     <output id=\"result-ca7e7df5-fcb8-485c-88be-6c0be916d5a3\">\n",
              "      Upload widget is only available when the cell has been executed in the\n",
              "      current browser session. Please rerun this cell to enable.\n",
              "      </output>\n",
              "      <script src=\"/nbextensions/google.colab/files.js\"></script> "
            ],
            "text/plain": [
              "<IPython.core.display.HTML object>"
            ]
          },
          "metadata": {}
        },
        {
          "output_type": "stream",
          "name": "stdout",
          "text": [
            "Saving kaggle.json to kaggle.json\n"
          ]
        },
        {
          "output_type": "execute_result",
          "data": {
            "text/plain": [
              "{'kaggle.json': b'{\"username\":\"ujandeb\",\"key\":\"9de9f735d28f4c4507a802d6fd74c937\"}'}"
            ]
          },
          "metadata": {},
          "execution_count": 3
        }
      ]
    },
    {
      "cell_type": "code",
      "metadata": {
        "id": "Yv4b3TyaocBn",
        "colab": {
          "base_uri": "https://localhost:8080/"
        },
        "outputId": "3def3c71-9613-4095-c2ca-2d159a6e56ff"
      },
      "source": [
        "# create a directory for the kaggle api key\n",
        "\n",
        "!mkdir ~/.kaggle \n",
        "!cp kaggle.json ~/.kaggle/\n",
        "!chmod 600 ~/.kaggle/kaggle.json\n",
        "\n",
        "!kaggle datasets download -d jsrojas/labeled-network-traffic-flows-114-applications\n",
        "!unzip /content/labeled-network-traffic-flows-114-applications.zip"
      ],
      "execution_count": null,
      "outputs": [
        {
          "output_type": "stream",
          "name": "stdout",
          "text": [
            "Downloading labeled-network-traffic-flows-114-applications.zip to /content\n",
            " 98% 353M/362M [00:09<00:00, 19.2MB/s]\n",
            "100% 362M/362M [00:09<00:00, 39.2MB/s]\n",
            "Archive:  /content/labeled-network-traffic-flows-114-applications.zip\n",
            "  inflating: Unicauca-dataset-April-June-2019-Network-flows.csv  \n"
          ]
        }
      ]
    },
    {
      "cell_type": "markdown",
      "metadata": {
        "id": "gDBQDJyW_Ho7"
      },
      "source": [
        "Loading dataset into pandas dataframe"
      ]
    },
    {
      "cell_type": "code",
      "metadata": {
        "id": "NMY0bjNLo2YP",
        "colab": {
          "base_uri": "https://localhost:8080/",
          "height": 226
        },
        "outputId": "a2cf7c93-499a-4bc9-d0bb-dae7a6db8a5a"
      },
      "source": [
        "df = pd.read_csv('/content/Unicauca-dataset-April-June-2019-Network-flows.csv', engine='c')\n",
        "df.head()"
      ],
      "execution_count": null,
      "outputs": [
        {
          "output_type": "execute_result",
          "data": {
            "text/html": [
              "<div>\n",
              "<style scoped>\n",
              "    .dataframe tbody tr th:only-of-type {\n",
              "        vertical-align: middle;\n",
              "    }\n",
              "\n",
              "    .dataframe tbody tr th {\n",
              "        vertical-align: top;\n",
              "    }\n",
              "\n",
              "    .dataframe thead th {\n",
              "        text-align: right;\n",
              "    }\n",
              "</style>\n",
              "<table border=\"1\" class=\"dataframe\">\n",
              "  <thead>\n",
              "    <tr style=\"text-align: right;\">\n",
              "      <th></th>\n",
              "      <th>flow_key</th>\n",
              "      <th>src_ip_numeric</th>\n",
              "      <th>src_ip</th>\n",
              "      <th>src_port</th>\n",
              "      <th>dst_ip</th>\n",
              "      <th>dst_port</th>\n",
              "      <th>proto</th>\n",
              "      <th>pktTotalCount</th>\n",
              "      <th>octetTotalCount</th>\n",
              "      <th>min_ps</th>\n",
              "      <th>max_ps</th>\n",
              "      <th>avg_ps</th>\n",
              "      <th>std_dev_ps</th>\n",
              "      <th>flowStart</th>\n",
              "      <th>flowEnd</th>\n",
              "      <th>flowDuration</th>\n",
              "      <th>min_piat</th>\n",
              "      <th>max_piat</th>\n",
              "      <th>avg_piat</th>\n",
              "      <th>std_dev_piat</th>\n",
              "      <th>f_pktTotalCount</th>\n",
              "      <th>f_octetTotalCount</th>\n",
              "      <th>f_min_ps</th>\n",
              "      <th>f_max_ps</th>\n",
              "      <th>f_avg_ps</th>\n",
              "      <th>f_std_dev_ps</th>\n",
              "      <th>f_flowStart</th>\n",
              "      <th>f_flowEnd</th>\n",
              "      <th>f_flowDuration</th>\n",
              "      <th>f_min_piat</th>\n",
              "      <th>f_max_piat</th>\n",
              "      <th>f_avg_piat</th>\n",
              "      <th>f_std_dev_piat</th>\n",
              "      <th>b_pktTotalCount</th>\n",
              "      <th>b_octetTotalCount</th>\n",
              "      <th>b_min_ps</th>\n",
              "      <th>b_max_ps</th>\n",
              "      <th>b_avg_ps</th>\n",
              "      <th>b_std_dev_ps</th>\n",
              "      <th>b_flowStart</th>\n",
              "      <th>b_flowEnd</th>\n",
              "      <th>b_flowDuration</th>\n",
              "      <th>b_min_piat</th>\n",
              "      <th>b_max_piat</th>\n",
              "      <th>b_avg_piat</th>\n",
              "      <th>b_std_dev_piat</th>\n",
              "      <th>flowEndReason</th>\n",
              "      <th>category</th>\n",
              "      <th>application_protocol</th>\n",
              "      <th>web_service</th>\n",
              "    </tr>\n",
              "  </thead>\n",
              "  <tbody>\n",
              "    <tr>\n",
              "      <th>0</th>\n",
              "      <td>3acee4f4ea001cd5e6d9584d4036b53d</td>\n",
              "      <td>3232266497</td>\n",
              "      <td>192.168.121.1</td>\n",
              "      <td>67</td>\n",
              "      <td>172.16.255.185</td>\n",
              "      <td>67</td>\n",
              "      <td>17</td>\n",
              "      <td>22</td>\n",
              "      <td>7620</td>\n",
              "      <td>328</td>\n",
              "      <td>394</td>\n",
              "      <td>346.363636</td>\n",
              "      <td>25.010081</td>\n",
              "      <td>1.555954e+09</td>\n",
              "      <td>1.555955e+09</td>\n",
              "      <td>1701.385427</td>\n",
              "      <td>0.000313</td>\n",
              "      <td>198.656500</td>\n",
              "      <td>81.018354</td>\n",
              "      <td>78.913442</td>\n",
              "      <td>17</td>\n",
              "      <td>5670</td>\n",
              "      <td>328</td>\n",
              "      <td>354</td>\n",
              "      <td>333.529412</td>\n",
              "      <td>9.140200</td>\n",
              "      <td>1.555954e+09</td>\n",
              "      <td>1.555955e+12</td>\n",
              "      <td>1701.385427</td>\n",
              "      <td>0.010463</td>\n",
              "      <td>198.657170</td>\n",
              "      <td>106.336589</td>\n",
              "      <td>74.034708</td>\n",
              "      <td>5</td>\n",
              "      <td>1950</td>\n",
              "      <td>389</td>\n",
              "      <td>394</td>\n",
              "      <td>390.000000</td>\n",
              "      <td>2.000000</td>\n",
              "      <td>1.555955e+09</td>\n",
              "      <td>1.555955e+09</td>\n",
              "      <td>1.554399e+12</td>\n",
              "      <td>0.010354</td>\n",
              "      <td>198.657965</td>\n",
              "      <td>51.689181</td>\n",
              "      <td>84.916348</td>\n",
              "      <td>2</td>\n",
              "      <td>Network</td>\n",
              "      <td>Unknown</td>\n",
              "      <td>DHCP</td>\n",
              "    </tr>\n",
              "    <tr>\n",
              "      <th>1</th>\n",
              "      <td>974ec5991b439c9a7176b88be0c90df0</td>\n",
              "      <td>3232266497</td>\n",
              "      <td>192.168.121.1</td>\n",
              "      <td>67</td>\n",
              "      <td>172.16.255.186</td>\n",
              "      <td>67</td>\n",
              "      <td>17</td>\n",
              "      <td>17</td>\n",
              "      <td>5670</td>\n",
              "      <td>328</td>\n",
              "      <td>354</td>\n",
              "      <td>333.529412</td>\n",
              "      <td>9.140200</td>\n",
              "      <td>1.555954e+09</td>\n",
              "      <td>1.555955e+09</td>\n",
              "      <td>1701.385515</td>\n",
              "      <td>0.010356</td>\n",
              "      <td>198.657267</td>\n",
              "      <td>106.336595</td>\n",
              "      <td>74.034707</td>\n",
              "      <td>17</td>\n",
              "      <td>5670</td>\n",
              "      <td>328</td>\n",
              "      <td>354</td>\n",
              "      <td>333.529412</td>\n",
              "      <td>9.140200</td>\n",
              "      <td>1.555954e+09</td>\n",
              "      <td>1.555955e+12</td>\n",
              "      <td>1701.385515</td>\n",
              "      <td>0.010356</td>\n",
              "      <td>198.657267</td>\n",
              "      <td>106.336595</td>\n",
              "      <td>74.034707</td>\n",
              "      <td>0</td>\n",
              "      <td>0</td>\n",
              "      <td>0</td>\n",
              "      <td>0</td>\n",
              "      <td>0.000000</td>\n",
              "      <td>0.000000</td>\n",
              "      <td>0.000000e+00</td>\n",
              "      <td>0.000000e+00</td>\n",
              "      <td>0.000000e+00</td>\n",
              "      <td>0.000000</td>\n",
              "      <td>0.000000</td>\n",
              "      <td>0.000000</td>\n",
              "      <td>0.000000</td>\n",
              "      <td>2</td>\n",
              "      <td>Network</td>\n",
              "      <td>Unknown</td>\n",
              "      <td>DHCP</td>\n",
              "    </tr>\n",
              "    <tr>\n",
              "      <th>2</th>\n",
              "      <td>3acee4f4ea001cd5e6d9584d4036b53d</td>\n",
              "      <td>3232266497</td>\n",
              "      <td>192.168.121.1</td>\n",
              "      <td>67</td>\n",
              "      <td>172.16.255.185</td>\n",
              "      <td>67</td>\n",
              "      <td>17</td>\n",
              "      <td>43</td>\n",
              "      <td>15124</td>\n",
              "      <td>328</td>\n",
              "      <td>394</td>\n",
              "      <td>351.720930</td>\n",
              "      <td>26.098495</td>\n",
              "      <td>1.555964e+09</td>\n",
              "      <td>1.555965e+09</td>\n",
              "      <td>1450.967340</td>\n",
              "      <td>0.000239</td>\n",
              "      <td>248.424737</td>\n",
              "      <td>34.546841</td>\n",
              "      <td>58.972989</td>\n",
              "      <td>30</td>\n",
              "      <td>10062</td>\n",
              "      <td>328</td>\n",
              "      <td>352</td>\n",
              "      <td>335.400000</td>\n",
              "      <td>9.718024</td>\n",
              "      <td>1.555964e+09</td>\n",
              "      <td>1.555965e+12</td>\n",
              "      <td>1450.967340</td>\n",
              "      <td>0.015413</td>\n",
              "      <td>248.424737</td>\n",
              "      <td>50.033357</td>\n",
              "      <td>65.290032</td>\n",
              "      <td>13</td>\n",
              "      <td>5062</td>\n",
              "      <td>389</td>\n",
              "      <td>394</td>\n",
              "      <td>389.384615</td>\n",
              "      <td>1.332347</td>\n",
              "      <td>1.555964e+09</td>\n",
              "      <td>1.555965e+09</td>\n",
              "      <td>1.554409e+12</td>\n",
              "      <td>0.022332</td>\n",
              "      <td>340.268454</td>\n",
              "      <td>89.927588</td>\n",
              "      <td>124.270745</td>\n",
              "      <td>2</td>\n",
              "      <td>Network</td>\n",
              "      <td>Unknown</td>\n",
              "      <td>DHCP</td>\n",
              "    </tr>\n",
              "    <tr>\n",
              "      <th>3</th>\n",
              "      <td>974ec5991b439c9a7176b88be0c90df0</td>\n",
              "      <td>3232266497</td>\n",
              "      <td>192.168.121.1</td>\n",
              "      <td>67</td>\n",
              "      <td>172.16.255.186</td>\n",
              "      <td>67</td>\n",
              "      <td>17</td>\n",
              "      <td>30</td>\n",
              "      <td>10086</td>\n",
              "      <td>328</td>\n",
              "      <td>352</td>\n",
              "      <td>336.200000</td>\n",
              "      <td>10.057833</td>\n",
              "      <td>1.555964e+09</td>\n",
              "      <td>1.555965e+09</td>\n",
              "      <td>1450.967130</td>\n",
              "      <td>0.015330</td>\n",
              "      <td>248.424689</td>\n",
              "      <td>50.033349</td>\n",
              "      <td>65.510537</td>\n",
              "      <td>30</td>\n",
              "      <td>10086</td>\n",
              "      <td>328</td>\n",
              "      <td>352</td>\n",
              "      <td>336.200000</td>\n",
              "      <td>10.057833</td>\n",
              "      <td>1.555964e+09</td>\n",
              "      <td>1.555965e+12</td>\n",
              "      <td>1450.967130</td>\n",
              "      <td>0.015330</td>\n",
              "      <td>248.424689</td>\n",
              "      <td>50.033349</td>\n",
              "      <td>65.510537</td>\n",
              "      <td>0</td>\n",
              "      <td>0</td>\n",
              "      <td>0</td>\n",
              "      <td>0</td>\n",
              "      <td>0.000000</td>\n",
              "      <td>0.000000</td>\n",
              "      <td>0.000000e+00</td>\n",
              "      <td>0.000000e+00</td>\n",
              "      <td>0.000000e+00</td>\n",
              "      <td>0.000000</td>\n",
              "      <td>0.000000</td>\n",
              "      <td>0.000000</td>\n",
              "      <td>0.000000</td>\n",
              "      <td>2</td>\n",
              "      <td>Network</td>\n",
              "      <td>Unknown</td>\n",
              "      <td>DHCP</td>\n",
              "    </tr>\n",
              "    <tr>\n",
              "      <th>4</th>\n",
              "      <td>cfa7c2740072befaa89c202499729e08</td>\n",
              "      <td>3232266497</td>\n",
              "      <td>192.168.121.1</td>\n",
              "      <td>0</td>\n",
              "      <td>10.130.1.166</td>\n",
              "      <td>0</td>\n",
              "      <td>1</td>\n",
              "      <td>1</td>\n",
              "      <td>56</td>\n",
              "      <td>56</td>\n",
              "      <td>56</td>\n",
              "      <td>56.000000</td>\n",
              "      <td>0.000000</td>\n",
              "      <td>1.555966e+09</td>\n",
              "      <td>1.555966e+09</td>\n",
              "      <td>0.000000</td>\n",
              "      <td>0.000000</td>\n",
              "      <td>0.000000</td>\n",
              "      <td>0.000000</td>\n",
              "      <td>0.000000</td>\n",
              "      <td>1</td>\n",
              "      <td>56</td>\n",
              "      <td>56</td>\n",
              "      <td>56</td>\n",
              "      <td>56.000000</td>\n",
              "      <td>0.000000</td>\n",
              "      <td>1.555966e+09</td>\n",
              "      <td>1.555966e+09</td>\n",
              "      <td>0.000000</td>\n",
              "      <td>0.000000</td>\n",
              "      <td>0.000000</td>\n",
              "      <td>0.000000</td>\n",
              "      <td>0.000000</td>\n",
              "      <td>0</td>\n",
              "      <td>0</td>\n",
              "      <td>0</td>\n",
              "      <td>0</td>\n",
              "      <td>0.000000</td>\n",
              "      <td>0.000000</td>\n",
              "      <td>0.000000e+00</td>\n",
              "      <td>0.000000e+00</td>\n",
              "      <td>0.000000e+00</td>\n",
              "      <td>0.000000</td>\n",
              "      <td>0.000000</td>\n",
              "      <td>0.000000</td>\n",
              "      <td>0.000000</td>\n",
              "      <td>2</td>\n",
              "      <td>Network</td>\n",
              "      <td>Unknown</td>\n",
              "      <td>ICMP</td>\n",
              "    </tr>\n",
              "  </tbody>\n",
              "</table>\n",
              "</div>"
            ],
            "text/plain": [
              "                           flow_key  ...  web_service\n",
              "0  3acee4f4ea001cd5e6d9584d4036b53d  ...         DHCP\n",
              "1  974ec5991b439c9a7176b88be0c90df0  ...         DHCP\n",
              "2  3acee4f4ea001cd5e6d9584d4036b53d  ...         DHCP\n",
              "3  974ec5991b439c9a7176b88be0c90df0  ...         DHCP\n",
              "4  cfa7c2740072befaa89c202499729e08  ...         ICMP\n",
              "\n",
              "[5 rows x 50 columns]"
            ]
          },
          "metadata": {},
          "execution_count": 5
        }
      ]
    },
    {
      "cell_type": "markdown",
      "metadata": {
        "id": "zl-02VrcHeHl"
      },
      "source": [
        "All the fields of each flow item"
      ]
    },
    {
      "cell_type": "code",
      "metadata": {
        "colab": {
          "base_uri": "https://localhost:8080/"
        },
        "id": "403GcFUO_ep8",
        "outputId": "23ea63c4-550d-4bbb-8fbc-5868b64c1c84"
      },
      "source": [
        "df.columns"
      ],
      "execution_count": null,
      "outputs": [
        {
          "output_type": "execute_result",
          "data": {
            "text/plain": [
              "Index(['flow_key', 'src_ip_numeric', 'src_ip', 'src_port', 'dst_ip',\n",
              "       'dst_port', 'proto', 'pktTotalCount', 'octetTotalCount', 'min_ps',\n",
              "       'max_ps', 'avg_ps', 'std_dev_ps', 'flowStart', 'flowEnd',\n",
              "       'flowDuration', 'min_piat', 'max_piat', 'avg_piat', 'std_dev_piat',\n",
              "       'f_pktTotalCount', 'f_octetTotalCount', 'f_min_ps', 'f_max_ps',\n",
              "       'f_avg_ps', 'f_std_dev_ps', 'f_flowStart', 'f_flowEnd',\n",
              "       'f_flowDuration', 'f_min_piat', 'f_max_piat', 'f_avg_piat',\n",
              "       'f_std_dev_piat', 'b_pktTotalCount', 'b_octetTotalCount', 'b_min_ps',\n",
              "       'b_max_ps', 'b_avg_ps', 'b_std_dev_ps', 'b_flowStart', 'b_flowEnd',\n",
              "       'b_flowDuration', 'b_min_piat', 'b_max_piat', 'b_avg_piat',\n",
              "       'b_std_dev_piat', 'flowEndReason', 'category', 'application_protocol',\n",
              "       'web_service'],\n",
              "      dtype='object')"
            ]
          },
          "metadata": {},
          "execution_count": 6
        }
      ]
    },
    {
      "cell_type": "markdown",
      "metadata": {
        "id": "HPr2RYHhGsmf"
      },
      "source": [
        "Class and function defintions"
      ]
    },
    {
      "cell_type": "code",
      "metadata": {
        "id": "PjumTB2g4T8c"
      },
      "source": [
        "class Flow:\n",
        "\n",
        "  def __init__(self, pktTotalCount, avg_ps, flowDuration, src_ip, dst_ip):\n",
        "    self.pktTotalCount = pktTotalCount\n",
        "    self.avg_ps = avg_ps\n",
        "    self.flowDuration = flowDuration\n",
        "    self.src_ip = src_ip\n",
        "    self.dst_ip = dst_ip\n",
        "\n",
        "\n",
        "class Reservoir:\n",
        "\n",
        "  def __init__(self):\n",
        "    self.res = set()\n",
        "    self.full = False\n",
        "\n",
        "  def reservoir_size(self):\n",
        "    return len(self.res)\n",
        "\n",
        "\n",
        "class KMV:\n",
        "\n",
        "  def __init__(self):\n",
        "    self.sortedlist = SortedList()\n",
        "    self.k = 1000\n",
        "\n",
        "  def list_size(self):\n",
        "    return len(self.sortedlist)\n",
        "\n",
        "\n",
        "# functions\n",
        "\n",
        "def build_flow(row):\n",
        "  # extracting the required fields\n",
        "  pktTotalCount = row['f_pktTotalCount']\n",
        "  avg_ps = row['f_avg_ps']\n",
        "  flowDuration = row['flowDuration']\n",
        "  src_ip = row['src_ip']\n",
        "  dst_ip = row['dst_ip']\n",
        "  flow = Flow(pktTotalCount, avg_ps, flowDuration, src_ip, dst_ip)\n",
        "\n",
        "  return flow\n",
        "\n",
        "\n",
        "def hash_value(flow):\n",
        "  # frozenset ignores ordering of tuples\n",
        "  # this means hash(src, dest) is the same as hash(dest, src)\n",
        "  fset = frozenset((flow.src_ip, flow.dst_ip))  \n",
        "  return hash(fset) / sys.maxsize  "
      ],
      "execution_count": null,
      "outputs": []
    },
    {
      "cell_type": "markdown",
      "metadata": {
        "id": "gqGRyRRVqhfA"
      },
      "source": [
        "Reservoir Sampling "
      ]
    },
    {
      "cell_type": "markdown",
      "metadata": {
        "id": "Dyb1mQNj_GIk"
      },
      "source": [
        "Implement the reservoir sampling method and maintain 10 reservoirs of size 1000 \n",
        "flows each. After processing all the flows, plot the histograms of pktTotalCount, avg_ps and flowDuration. Comment if the histograms are similar across the 10 reservoirs (samples). If we use any one of these samples as a batch for SGD algorithm to build a regression model to estimate \n",
        "the  data  consumption  by  a  given  user,  how  good  would  it  be?  Can  you  think  of  better  ways  to  make batches in the streaming model for SGD (where memory is constrained)? "
      ]
    },
    {
      "cell_type": "markdown",
      "metadata": {
        "id": "BHBpkYTa2i2M"
      },
      "source": [
        "Building a list of reservoirs and filling them"
      ]
    },
    {
      "cell_type": "code",
      "metadata": {
        "colab": {
          "base_uri": "https://localhost:8080/"
        },
        "id": "Gtk6otSMEaln",
        "outputId": "3b5641e1-92bc-4f28-effd-1d0bca11ca24"
      },
      "source": [
        "num_res = 10  # number of reservoirs\n",
        "res_size = 1000 # size of each reservoir\n",
        "reservoirs = [] # list to store reservoir objects\n",
        "\n",
        "for i in range(num_res):  # creating reservoirs to store flows\n",
        "  reservoirs.append(Reservoir())\n",
        "\n",
        "\n",
        "# filling the reservoirs upto max capacity\n",
        "\n",
        "full = False  # check if all reservoirs are full\n",
        "for index, row in df.iterrows():\n",
        "\n",
        "  flow = build_flow(row)  # building flow object\n",
        "\n",
        "  for i in range(num_res + 1):\n",
        "    if i == num_res:  # all reservoirs full\n",
        "      full = True\n",
        "      break\n",
        "    if not reservoirs[i].full: # ith reservoir has space\n",
        "      reservoirs[i].res.add(flow) # add flow to reservoir\n",
        "      if reservoirs[i].reservoir_size() == res_size: \n",
        "        reservoirs[i].full = True  # reservoir limit reached\n",
        "      break\n",
        "\n",
        "  if full:   # check if all reservoirs are full\n",
        "    print('All reservoirs full')\n",
        "    break\n",
        "\n",
        "# the remaining dataframe\n",
        "rest = df.iloc[index:, :]"
      ],
      "execution_count": null,
      "outputs": [
        {
          "output_type": "stream",
          "name": "stdout",
          "text": [
            "All reservoirs full\n"
          ]
        }
      ]
    },
    {
      "cell_type": "markdown",
      "metadata": {
        "id": "PaHO9Q9w8rhf"
      },
      "source": [
        "Applying reservoir sampling on the rest of the stream"
      ]
    },
    {
      "cell_type": "code",
      "metadata": {
        "id": "LRui5kFd8z20"
      },
      "source": [
        "for index, row in rest.iterrows():\n",
        "\n",
        "  flow = build_flow(row)  # building flow object\n",
        "\n",
        "  res_id = randrange(num_res)  # randomly select a reservoir\n",
        "  size = reservoirs[res_id].reservoir_size()  # current size of reservoir\n",
        "\n",
        "  n = size + index + 1 \n",
        "  prob = size / n # s/n\n",
        "\n",
        "  if random.uniform(0, 1) <= prob:  # keep with probability s/n\n",
        "    keep = True\n",
        "  else: keep = False\n",
        "\n",
        "  if keep:  # keep flow and discard random flow\n",
        "    el = random.sample(reservoirs[res_id].res, 1)[0]  # randomly select a flow\n",
        "    reservoirs[res_id].res.remove(el) # discard random flow\n",
        "    reservoirs[res_id].res.add(flow)  # add flow"
      ],
      "execution_count": null,
      "outputs": []
    },
    {
      "cell_type": "markdown",
      "metadata": {
        "id": "ph1hUbqMvYoD"
      },
      "source": [
        "Plotting histograms"
      ]
    },
    {
      "cell_type": "code",
      "metadata": {
        "colab": {
          "base_uri": "https://localhost:8080/",
          "height": 1000
        },
        "id": "DYneyMBZx1iC",
        "outputId": "9e5f1506-143b-45d7-f184-541be28d5c6a"
      },
      "source": [
        "# pktTotalCount histograms\n",
        "\n",
        "histograms = []\n",
        "for i in range(num_res):\n",
        "  l = []\n",
        "  for flow in reservoirs[i].res:\n",
        "    l.append(flow.pktTotalCount)\n",
        "  a = np.array(l)\n",
        "  fig, ax = plt.subplots(figsize =(5, 7))\n",
        "  ax.hist(a, bins = [0, 5, 10, 15, 20, 25, 30, 35, 40, 45, 50, 55])\n",
        "  \n",
        "plt.show()"
      ],
      "execution_count": null,
      "outputs": [
        {
          "output_type": "display_data",
          "data": {
            "image/png": "[encoded data removed]",
            "text/plain": [
              "<Figure size 360x504 with 1 Axes>"
            ]
          },
          "metadata": {
            "needs_background": "light"
          }
        },
        {
          "output_type": "display_data",
          "data": {
            "image/png": "[encoded data removed]",
            "text/plain": [
              "<Figure size 360x504 with 1 Axes>"
            ]
          },
          "metadata": {
            "needs_background": "light"
          }
        },
        {
          "output_type": "display_data",
          "data": {
            "image/png": "[encoded data removed]",
            "text/plain": [
              "<Figure size 360x504 with 1 Axes>"
            ]
          },
          "metadata": {
            "needs_background": "light"
          }
        },
        {
          "output_type": "display_data",
          "data": {
            "image/png": "[encoded data removed]",
            "text/plain": [
              "<Figure size 360x504 with 1 Axes>"
            ]
          },
          "metadata": {
            "needs_background": "light"
          }
        },
        {
          "output_type": "display_data",
          "data": {
            "image/png": "[encoded data removed]",
            "text/plain": [
              "<Figure size 360x504 with 1 Axes>"
            ]
          },
          "metadata": {
            "needs_background": "light"
          }
        },
        {
          "output_type": "display_data",
          "data": {
            "image/png": "[encoded data removed]",
            "text/plain": [
              "<Figure size 360x504 with 1 Axes>"
            ]
          },
          "metadata": {
            "needs_background": "light"
          }
        },
        {
          "output_type": "display_data",
          "data": {
            "image/png": "[encoded data removed]",
            "text/plain": [
              "<Figure size 360x504 with 1 Axes>"
            ]
          },
          "metadata": {
            "needs_background": "light"
          }
        },
        {
          "output_type": "display_data",
          "data": {
            "image/png": "[encoded data removed]",
            "text/plain": [
              "<Figure size 360x504 with 1 Axes>"
            ]
          },
          "metadata": {
            "needs_background": "light"
          }
        },
        {
          "output_type": "display_data",
          "data": {
            "image/png": "[encoded data removed]",
            "text/plain": [
              "<Figure size 360x504 with 1 Axes>"
            ]
          },
          "metadata": {
            "needs_background": "light"
          }
        },
        {
          "output_type": "display_data",
          "data": {
            "image/png": "[encoded data removed]",
            "text/plain": [
              "<Figure size 360x504 with 1 Axes>"
            ]
          },
          "metadata": {
            "needs_background": "light"
          }
        }
      ]
    },
    {
      "cell_type": "markdown",
      "metadata": {
        "id": "qlmCwHGIyygu"
      },
      "source": [
        "There are slight differences between the histograms"
      ]
    },
    {
      "cell_type": "markdown",
      "metadata": {
        "id": "7eBfzP9szBZp"
      },
      "source": [
        "The current batches are random samples from usage data of all users. A better way to fit a regression model perhaps would be to sample data from a fixed set of users (from the IP addresses) and then use the samples as batches for SGD. "
      ]
    },
    {
      "cell_type": "markdown",
      "metadata": {
        "id": "II4z-pJ5qYz8"
      },
      "source": [
        "Estimated Count of the distinct SRC-DST IP Pairs in the dataset using KMV sketch "
      ]
    },
    {
      "cell_type": "markdown",
      "metadata": {
        "id": "J92pJWTBqnQh"
      },
      "source": [
        "Implement the KMV sketch with k=1000. You can use the following implementation for the hash function provided by python. Make sure you finally map the results to interval (0,1) uniformly. For example, you can divide the hash value by the maximum value possible for the hash. You can also control the value of N by taking modulo on the hash. https://docs.python.org/3.7/library/functions.html#hash "
      ]
    },
    {
      "cell_type": "markdown",
      "metadata": {
        "id": "UM8g2XZMA4Sp"
      },
      "source": [
        "We use a SortedList to simulate a max heap :\n",
        "https://pypi.org/project/sortedcontainers/"
      ]
    },
    {
      "cell_type": "code",
      "metadata": {
        "id": "fskbyYu8wxKB"
      },
      "source": [
        "num_kmv = 10  # number of KMV sketches\n",
        "kmvs = [] # list to store kmv objects\n",
        "\n",
        "for i in range(num_kmv):\n",
        "  kmvs.append(KMV())\n",
        "\n",
        "for index, row in df.iterrows():\n",
        "\n",
        "  flow = build_flow(row)\n",
        "  h = hash_value(flow)\n",
        "  kmv_id = randrange(num_kmv) # randomly select a KMV sketch\n",
        "\n",
        "  if kmvs[kmv_id].list_size() < kmvs[kmv_id].k: # sortedlist size less than 1000\n",
        "    kmvs[kmv_id].sortedlist.add(h)  # add to sortedlist\n",
        "  elif h < kmvs[kmv_id].sortedlist[-1]:  # sortedlist size reached, check if new hash is less than largest hash value\n",
        "    kmvs[kmv_id].sortedlist.pop() \n",
        "    kmvs[kmv_id].sortedlist.add(h)  # pop largest hash and add new smaller hash"
      ],
      "execution_count": null,
      "outputs": []
    },
    {
      "cell_type": "markdown",
      "metadata": {
        "id": "zQQ1jHM_856g"
      },
      "source": [
        "Compute error estimate"
      ]
    },
    {
      "cell_type": "code",
      "metadata": {
        "colab": {
          "base_uri": "https://localhost:8080/"
        },
        "id": "8aNiDjIk8DEV",
        "outputId": "d69a3f23-f844-4019-8452-39c97cb9c504"
      },
      "source": [
        "N_hat = []\n",
        "error = []\n",
        "\n",
        "# calculate count estimate and error estimate\n",
        "for i in range(num_kmv):\n",
        "  n_hat =  - (kmvs[i].k - 1) / kmvs[i].sortedlist[-1] # negative hash values\n",
        "  N_hat.append(n_hat)\n",
        "  er = n_hat / math.sqrt(kmvs[i].k - 2)\n",
        "  error.append(er)\n",
        "\n",
        "median_est = np.median(np.array(N_hat)) # median estimate\n",
        "id = np.argsort(np.array(N_hat))[len(np.array(N_hat))//2]\n",
        "median_err = error[id]  # corresponding error\n",
        "\n",
        "print('Median distinct count estimate and error (standard deviations) : {}, {}'.format(median_est, median_err))"
      ],
      "execution_count": null,
      "outputs": [
        {
          "output_type": "stream",
          "name": "stdout",
          "text": [
            "Median distinct count estimate and error (standard deviations) : 1008.6588804606445, 31.933499785736387\n"
          ]
        }
      ]
    },
    {
      "cell_type": "markdown",
      "metadata": {
        "id": "jHW98uhkFdsT"
      },
      "source": [
        "Counting true distincts"
      ]
    },
    {
      "cell_type": "code",
      "metadata": {
        "colab": {
          "base_uri": "https://localhost:8080/"
        },
        "id": "HLrJ_a_0EjRc",
        "outputId": "616dff6e-abdc-4f59-fab5-13fefa40b757"
      },
      "source": [
        "distincts = set()\n",
        "for index, row in df.iterrows():\n",
        "\n",
        "  flow = build_flow(row)\n",
        "  pair = frozenset((flow.src_ip, flow.dst_ip))\n",
        "  if pair not in distincts:\n",
        "    distincts.add(pair)\n",
        "\n",
        "print('True count : {}'.format(len(distincts)))"
      ],
      "execution_count": null,
      "outputs": [
        {
          "output_type": "stream",
          "name": "stdout",
          "text": [
            "True count : 310169\n"
          ]
        }
      ]
    },
    {
      "cell_type": "markdown",
      "metadata": {
        "id": "yilWXwggJRcn"
      },
      "source": [
        "Most frequent SRC-DST IP pairs (use MG sketch) "
      ]
    },
    {
      "cell_type": "markdown",
      "metadata": {
        "id": "QxB__DQKJZbb"
      },
      "source": [
        "Implement the MG sketch so that the maximum error in the estimate is no more than 1%. What will be the size of the table? Print out the top 100 most frequent SRC-DST pairs sorted by their estimate frequency (count) after you have processed the whole stream."
      ]
    },
    {
      "cell_type": "code",
      "metadata": {
        "id": "xAmPisApFtcX"
      },
      "source": [
        "epsilon = 0.01\n",
        "k = 1 / epsilon # size of table\n",
        "T = {}  # table as a dictionary\n",
        "\n",
        "for index, row in df.iterrows():\n",
        "\n",
        "  flow = build_flow(row)\n",
        "\n",
        "  pair = frozenset((flow.src_ip, flow.dst_ip))\n",
        "  if pair in T: T[pair] += 1\n",
        "  else: T[pair] = 1\n",
        "\n",
        "  if len(T) > k:\n",
        "    temp = {}\n",
        "    for key, value in T.items():\n",
        "      val = value - 1\n",
        "      if val > 0: temp[key] = val\n",
        "    T = temp"
      ],
      "execution_count": null,
      "outputs": []
    },
    {
      "cell_type": "code",
      "metadata": {
        "colab": {
          "base_uri": "https://localhost:8080/"
        },
        "id": "W6Pl1suCPlFv",
        "outputId": "94710baa-9b43-4578-82a0-d63426488bce"
      },
      "source": [
        "print('Size of table : {}'.format(len(T)))"
      ],
      "execution_count": null,
      "outputs": [
        {
          "output_type": "stream",
          "name": "stdout",
          "text": [
            "Size of table : 93\n"
          ]
        }
      ]
    },
    {
      "cell_type": "markdown",
      "metadata": {
        "id": "yM-67Hz2ReLa"
      },
      "source": [
        "Most frequent SRC-DST pairs sorted by their estimate frequency"
      ]
    },
    {
      "cell_type": "code",
      "metadata": {
        "colab": {
          "base_uri": "https://localhost:8080/"
        },
        "id": "OYdLl023N4OI",
        "outputId": "f480cbee-22aa-4b6a-bc4e-997998846b05"
      },
      "source": [
        "# sorting T by frequencies\n",
        "s = [(k, v) for k, v in sorted(T.items(), key=lambda item: item[1])]\n",
        "s.reverse() # since we want the highest frequencies\n",
        "\n",
        "for i in range(50):\n",
        "  l = []\n",
        "  for ip in s[i][0]:\n",
        "    l.append(ip)\n",
        "  count = s[i][1]\n",
        "  print('IP pair and count : {}, {}'.format((l[0], l[1]), count))"
      ],
      "execution_count": null,
      "outputs": [
        {
          "output_type": "stream",
          "name": "stdout",
          "text": [
            "IP pair and count : ('192.168.128.3', '172.16.255.200'), 12952\n",
            "IP pair and count : ('172.16.255.200', '192.168.128.203'), 1739\n",
            "IP pair and count : ('172.16.255.200', '192.168.128.134'), 489\n",
            "IP pair and count : ('192.168.128.151', '172.16.255.200'), 434\n",
            "IP pair and count : ('192.168.128.80', '172.16.255.200'), 431\n",
            "IP pair and count : ('192.168.128.101', '172.16.255.200'), 264\n",
            "IP pair and count : ('172.16.255.200', '192.168.127.37'), 248\n",
            "IP pair and count : ('192.168.128.115', '172.16.255.200'), 166\n",
            "IP pair and count : ('192.168.128.185', '172.16.255.200'), 90\n",
            "IP pair and count : ('192.168.128.189', '172.16.141.250'), 85\n",
            "IP pair and count : ('172.16.255.200', '192.168.128.61'), 82\n",
            "IP pair and count : ('192.168.128.223', '172.16.141.250'), 74\n",
            "IP pair and count : ('192.168.128.219', '172.16.141.250'), 73\n",
            "IP pair and count : ('192.168.128.163', '172.16.255.200'), 69\n",
            "IP pair and count : ('10.200.7.4', '192.168.128.173'), 63\n",
            "IP pair and count : ('192.168.128.129', '172.16.255.200'), 55\n",
            "IP pair and count : ('192.168.128.189', '172.16.255.200'), 54\n",
            "IP pair and count : ('192.168.128.173', '10.200.7.8'), 48\n",
            "IP pair and count : ('192.168.128.151', '172.16.255.183'), 46\n",
            "IP pair and count : ('192.168.128.63', '172.16.255.200'), 46\n",
            "IP pair and count : ('192.168.128.223', '192.168.190.48'), 44\n",
            "IP pair and count : ('192.168.128.220', '172.16.255.200'), 43\n",
            "IP pair and count : ('192.168.128.203', '31.13.67.32'), 42\n",
            "IP pair and count : ('10.200.7.7', '192.168.128.173'), 38\n",
            "IP pair and count : ('192.168.128.141', '172.16.255.200'), 37\n",
            "IP pair and count : ('192.168.128.167', '172.16.255.183'), 34\n",
            "IP pair and count : ('192.168.128.251', '172.16.255.200'), 31\n",
            "IP pair and count : ('192.168.128.220', '172.16.141.250'), 31\n",
            "IP pair and count : ('172.16.255.200', '192.168.128.167'), 30\n",
            "IP pair and count : ('192.168.128.219', '172.16.255.200'), 28\n",
            "IP pair and count : ('172.16.255.200', '192.168.128.223'), 27\n",
            "IP pair and count : ('172.16.255.200', '192.168.128.252'), 26\n",
            "IP pair and count : ('172.16.255.200', '192.168.128.173'), 21\n",
            "IP pair and count : ('10.200.7.6', '192.168.128.173'), 19\n",
            "IP pair and count : ('192.168.128.173', '10.200.7.5'), 15\n",
            "IP pair and count : ('181.228.131.112', '192.168.128.166'), 15\n",
            "IP pair and count : ('192.168.128.166', '190.196.208.218'), 10\n",
            "IP pair and count : ('172.217.2.142', '192.168.128.203'), 9\n",
            "IP pair and count : ('192.168.128.185', '157.240.14.15'), 9\n",
            "IP pair and count : ('172.217.8.67', '192.168.128.203'), 7\n",
            "IP pair and count : ('192.168.128.220', '104.71.249.211'), 6\n",
            "IP pair and count : ('107.167.110.211', '192.168.128.203'), 6\n",
            "IP pair and count : ('192.168.128.185', '10.200.1.16'), 6\n",
            "IP pair and count : ('192.168.128.203', '172.16.255.183'), 5\n",
            "IP pair and count : ('192.168.128.189', '104.71.249.211'), 5\n",
            "IP pair and count : ('172.16.255.200', '192.168.128.87'), 5\n",
            "IP pair and count : ('192.168.128.220', '192.168.137.1'), 4\n",
            "IP pair and count : ('52.179.129.229', '192.168.128.220'), 4\n",
            "IP pair and count : ('192.168.128.189', '172.16.255.183'), 4\n",
            "IP pair and count : ('172.16.255.183', '192.168.128.252'), 3\n"
          ]
        }
      ]
    }
  ]
}