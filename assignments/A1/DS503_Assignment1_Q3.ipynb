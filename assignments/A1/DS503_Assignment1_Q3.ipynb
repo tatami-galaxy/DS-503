{
  "nbformat": 4,
  "nbformat_minor": 0,
  "metadata": {
    "colab": {
      "name": "DS503_Assignment1_Q3.ipynb",
      "provenance": []
    },
    "kernelspec": {
      "name": "python3",
      "display_name": "Python 3"
    },
    "language_info": {
      "name": "python"
    }
  },
  "cells": [
    {
      "cell_type": "code",
      "metadata": {
        "id": "HxHwcgUg8kum",
        "colab": {
          "base_uri": "https://localhost:8080/"
        },
        "outputId": "4a1e99b4-0fd9-4f9c-bcd6-82000ce8e90f"
      },
      "source": [
        "!wget https://www.kaggle.com/benhamner/nips-papers/download"
      ],
      "execution_count": null,
      "outputs": [
        {
          "output_type": "stream",
          "name": "stdout",
          "text": [
            "--2021-08-31 11:45:42--  https://www.kaggle.com/benhamner/nips-papers/download\n",
            "Resolving www.kaggle.com (www.kaggle.com)... 35.244.233.98\n",
            "Connecting to www.kaggle.com (www.kaggle.com)|35.244.233.98|:443... connected.\n",
            "HTTP request sent, awaiting response... 302 Found\n",
            "Location: /account/login?titleType=dataset-downloads&showDatasetDownloadSkip=False&messageId=datasetsWelcome&returnUrl=%2Fbenhamner%2Fnips-papers%3Fresource%3Ddownload [following]\n",
            "--2021-08-31 11:45:42--  https://www.kaggle.com/account/login?titleType=dataset-downloads&showDatasetDownloadSkip=False&messageId=datasetsWelcome&returnUrl=%2Fbenhamner%2Fnips-papers%3Fresource%3Ddownload\n",
            "Reusing existing connection to www.kaggle.com:443.\n",
            "HTTP request sent, awaiting response... 200 OK\n",
            "Length: unspecified [text/html]\n",
            "Saving to: ‘download’\n",
            "\n",
            "\rdownload                [<=>                 ]       0  --.-KB/s               \rdownload                [ <=>                ]   6.48K  --.-KB/s    in 0s      \n",
            "\n",
            "2021-08-31 11:45:42 (56.7 MB/s) - ‘download’ saved [6639]\n",
            "\n"
          ]
        }
      ]
    },
    {
      "cell_type": "code",
      "metadata": {
        "id": "x9zGRg3WB1y3"
      },
      "source": [
        ""
      ],
      "execution_count": null,
      "outputs": []
    }
  ]
}